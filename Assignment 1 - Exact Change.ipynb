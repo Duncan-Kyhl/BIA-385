{
 "cells": [
  {
   "cell_type": "markdown",
   "metadata": {},
   "source": [
    "# Assignment 1: Exact Change\n",
    "\n",
    "Write a program with total change amount as an integer input that outputs the change using the fewest coins, one coin type per line. The coin types are dollars, quarters, dimes, nickels, and pennies. Use singular and plural coin names as appropriate, like 1 penny vs. 2 pennies.\n",
    "\n",
    " - Ex: If the input is 0 or less, the output is:\n",
    "\n",
    "no change\n",
    "- Ex: If the input is 45, the output is:\n",
    "\n",
    "1 quarter\n",
    "2 dimes"
   ]
  },
  {
   "cell_type": "markdown",
   "metadata": {},
   "source": [
    "## First Concept: Using Loops"
   ]
  },
  {
   "cell_type": "code",
   "execution_count": 2,
   "metadata": {},
   "outputs": [
    {
     "name": "stdout",
     "output_type": "stream",
     "text": [
      "2\n",
      "2 Pennies\n"
     ]
    }
   ],
   "source": [
    "# Get the amount of exact change to be returned\n",
    "# Set change to 0 to serve as an additive counter to determine when enough change has been counted back\n",
    "amount = int(input())\n",
    "change = 0\n",
    "\n",
    "dollars = quarters = dimes = nickels = pennies = 0\n",
    "\n",
    "# Add the largest coin without going over, then move to the next highest valued coin.\n",
    "while change != amount:\n",
    "    while (change + 100) <= amount:\n",
    "        change += 100\n",
    "        dollars += 1\n",
    "    while (change + 25) <= amount:\n",
    "        change += 25\n",
    "        quarters += 1\n",
    "    while (change + 10) <= amount:\n",
    "        change += 10\n",
    "        dimes += 1\n",
    "    while (change + 5) <= amount:\n",
    "        change += 5\n",
    "        nickels += 1\n",
    "    while (change + 1) <= amount:\n",
    "        change += 1\n",
    "        pennies += 1\n",
    "        \n",
    "# Created a list and a dictionary for stepping through to print singular or plural with each coin.\n",
    "currency = [dollars, quarters, dimes, nickels, pennies]\n",
    "labels = {0:'Dollar',1:'Quarter',2:'Dime',3:'Nickel',4:'Penny'}\n",
    "\n",
    "# When change exists (*see else*) walk through the list and dict together.\n",
    "if amount != 0:\n",
    "    for x in currency and labels:             \n",
    "            # singular change values\n",
    "            if currency[x] == 1:\n",
    "                print(currency[x], labels[x])\n",
    "\n",
    "            # special case for pennies\n",
    "            elif x == 4 and currency[x] != 0:\n",
    "                labels[x] = 'Penn'\n",
    "                print(currency[x],labels[x] + 'ies')\n",
    "\n",
    "            # plural change values\n",
    "            elif currency[x] > 1:\n",
    "                print(currency[x],labels[x] + 's')\n",
    "                \n",
    "# When initial amount given (*line 3*) is zero.      \n",
    "else: \n",
    "    print('No change')"
   ]
  },
  {
   "cell_type": "markdown",
   "metadata": {},
   "source": [
    "## Second Concept: Using a function"
   ]
  },
  {
   "cell_type": "code",
   "execution_count": 3,
   "metadata": {},
   "outputs": [
    {
     "name": "stdout",
     "output_type": "stream",
     "text": [
      "156\n",
      "1 dollar\n",
      "2 quarters\n",
      "1 nickel\n",
      "1 penny\n"
     ]
    }
   ],
   "source": [
    "# Function\n",
    "def exact_change(user_total):\n",
    "    num_dollars = user_total // 100 \n",
    "    user_total %= 100 \n",
    "    num_quarters = user_total // 25 \n",
    "    user_total %= 25 \n",
    "    num_dimes = user_total // 10 \n",
    "    user_total %= 10 \n",
    "    num_nickels = user_total // 5\n",
    "    user_total %= 5\n",
    "    num_pennies = user_total\n",
    "\n",
    "    return num_dollars, num_quarters, num_dimes, num_nickels, num_pennies\n",
    "    \n",
    "# Main Program\n",
    "if __name__ == '__main__': \n",
    "    input_val = int(input())    \n",
    "    num_dollars = num_quarters = num_dimes = num_nickels = num_pennies = exact_change(input_val)\n",
    "\n",
    "# Using the returned tuple and a dictionary for stepping through to print singular or plural with each currency (Ex: quarter)\n",
    "    currency = exact_change(input_val)\n",
    "    labels = {0:'dollar',1:'quarter',2:'dime',3:'nickel',4:'penny'}\n",
    "\n",
    "# When change exists (*see else*) walk through the list and dict together.\n",
    "if input_val != 0:\n",
    "    for x in currency and labels:             \n",
    "            # singular change values\n",
    "            if currency[x] == 1:\n",
    "                print(currency[x], labels[x])\n",
    "\n",
    "            # special case for pennies\n",
    "            elif currency[x] == currency[-1]:\n",
    "                labels[x] = 'penn'\n",
    "                print(currency[x],labels[x] + 'ies')\n",
    "\n",
    "            # plural change values\n",
    "            elif currency[x] > 1:\n",
    "                print(currency[x],labels[x] + 's')\n",
    "                \n",
    "# When initial amount given (*input_val in main program, line 2*) is zero.        \n",
    "else: \n",
    "    print('No change')"
   ]
  }
 ],
 "metadata": {
  "kernelspec": {
   "display_name": "Python 3",
   "language": "python",
   "name": "python3"
  },
  "language_info": {
   "codemirror_mode": {
    "name": "ipython",
    "version": 3
   },
   "file_extension": ".py",
   "mimetype": "text/x-python",
   "name": "python",
   "nbconvert_exporter": "python",
   "pygments_lexer": "ipython3",
   "version": "3.8.3"
  }
 },
 "nbformat": 4,
 "nbformat_minor": 4
}
